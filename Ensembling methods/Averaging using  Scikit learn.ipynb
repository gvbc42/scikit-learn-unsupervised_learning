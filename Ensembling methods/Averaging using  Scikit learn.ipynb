{
  "cells": [
    {
      "cell_type": "markdown",
      "source": [
        "## Using scikit learn for Averaging Ensemble learning \n",
        "\n",
        "`Ensemble averaging` is the process of creating **multiple models** and combining them to produce a desired output, as opposed to creating just one model. \n",
        "\n",
        "Frequently an ensemble of models performs better than any individual model, because the various errors of the models \"average out.\"\n",
        "\n",
        "* Simple and efficient tools for data mining and data analysis\n",
        "* Accessible to everybody, and reusable in various contexts\n",
        "* Built on NumPy, SciPy, and matplotlib\n",
        "* Open source, commercially usable - BSD license\n",
        "\n",
        "![](https://lh3.googleusercontent.com/-bLQJoRT38AU/Xw5y0s5qnSI/AAAAAAAApEg/1pu0ZlclFDIPcBfQL-BCxjKYS6CzxOFnACK8BGAsYHg/s0/2020-07-14.png)"
      ],
      "metadata": {}
    },
    {
      "cell_type": "markdown",
      "source": [
        "### Predicting weight using linear regression on dirrerent data sizes "
      ],
      "metadata": {}
    },
    {
      "cell_type": "markdown",
      "source": [
        "### Import the height-weight data csv\n",
        "[Data Sets](https://github.com/reddyprasade/Machine-Learning-Problems-DataSets/blob/master/Ensemble/height-weight.csv)"
      ],
      "metadata": {}
    },
    {
      "cell_type": "code",
      "source": [
        "import numpy\n",
        "filename = \"height-weight.csv\"\n",
        "raw_data = open(filename, 'rt')\n",
        "data = numpy.loadtxt(raw_data, delimiter=\",\")"
      ],
      "outputs": [],
      "execution_count": null,
      "metadata": {
        "execution": {
          "iopub.status.busy": "2020-11-03T03:24:09.169Z",
          "iopub.execute_input": "2020-11-03T03:24:09.192Z",
          "iopub.status.idle": "2020-11-03T03:24:12.249Z",
          "shell.execute_reply": "2020-11-03T03:24:12.230Z"
        }
      }
    },
    {
      "cell_type": "code",
      "source": [
        "import pandas_profiling \n",
        "import pandas as pd \n",
        "import matplotlib.pyplot as plt\n",
        "import seaborn as sns\n",
        "%matplotlib inline"
      ],
      "outputs": [],
      "execution_count": 5,
      "metadata": {
        "collapsed": true,
        "jupyter": {
          "source_hidden": false,
          "outputs_hidden": false
        },
        "nteract": {
          "transient": {
            "deleting": false
          }
        },
        "execution": {
          "iopub.status.busy": "2020-11-03T03:24:45.942Z",
          "iopub.execute_input": "2020-11-03T03:24:45.956Z",
          "shell.execute_reply": "2020-11-03T03:24:46.000Z",
          "iopub.status.idle": "2020-11-03T03:24:45.975Z"
        }
      }
    },
    {
      "cell_type": "code",
      "source": [
        "path = \"https://raw.githubusercontent.com/reddyprasade/Machine-Learning-Problems-DataSets/master/Ensemble/height-weight.csv\""
      ],
      "outputs": [],
      "execution_count": 6,
      "metadata": {
        "collapsed": true,
        "jupyter": {
          "source_hidden": false,
          "outputs_hidden": false
        },
        "nteract": {
          "transient": {
            "deleting": false
          }
        },
        "execution": {
          "iopub.status.busy": "2020-11-03T03:24:47.071Z",
          "iopub.execute_input": "2020-11-03T03:24:47.083Z",
          "iopub.status.idle": "2020-11-03T03:24:47.099Z",
          "shell.execute_reply": "2020-11-03T03:24:47.117Z"
        }
      }
    },
    {
      "cell_type": "code",
      "source": [
        "df = pd.read_csv(path,header=None)\n",
        "df.columns = [\"Height\",'Weight']"
      ],
      "outputs": [],
      "execution_count": 7,
      "metadata": {
        "collapsed": true,
        "jupyter": {
          "source_hidden": false,
          "outputs_hidden": false
        },
        "nteract": {
          "transient": {
            "deleting": false
          }
        },
        "execution": {
          "iopub.status.busy": "2020-11-03T03:24:48.652Z",
          "iopub.execute_input": "2020-11-03T03:24:48.664Z",
          "iopub.status.idle": "2020-11-03T03:24:51.298Z",
          "shell.execute_reply": "2020-11-03T03:24:51.278Z"
        }
      }
    },
    {
      "cell_type": "code",
      "source": [
        "df.head()"
      ],
      "outputs": [
        {
          "output_type": "execute_result",
          "execution_count": 8,
          "data": {
            "text/plain": "      Height      Weight\n0  73.847017  241.893563\n1  68.781904  162.310473\n2  74.110105  212.740856\n3  71.730978  220.042470\n4  69.881796  206.349801",
            "text/html": "<div>\n<style scoped>\n    .dataframe tbody tr th:only-of-type {\n        vertical-align: middle;\n    }\n\n    .dataframe tbody tr th {\n        vertical-align: top;\n    }\n\n    .dataframe thead th {\n        text-align: right;\n    }\n</style>\n<table border=\"1\" class=\"dataframe\">\n  <thead>\n    <tr style=\"text-align: right;\">\n      <th></th>\n      <th>Height</th>\n      <th>Weight</th>\n    </tr>\n  </thead>\n  <tbody>\n    <tr>\n      <th>0</th>\n      <td>73.847017</td>\n      <td>241.893563</td>\n    </tr>\n    <tr>\n      <th>1</th>\n      <td>68.781904</td>\n      <td>162.310473</td>\n    </tr>\n    <tr>\n      <th>2</th>\n      <td>74.110105</td>\n      <td>212.740856</td>\n    </tr>\n    <tr>\n      <th>3</th>\n      <td>71.730978</td>\n      <td>220.042470</td>\n    </tr>\n    <tr>\n      <th>4</th>\n      <td>69.881796</td>\n      <td>206.349801</td>\n    </tr>\n  </tbody>\n</table>\n</div>"
          },
          "metadata": {}
        }
      ],
      "execution_count": 8,
      "metadata": {
        "collapsed": true,
        "jupyter": {
          "source_hidden": false,
          "outputs_hidden": true
        },
        "nteract": {
          "transient": {
            "deleting": false
          }
        },
        "execution": {
          "iopub.status.busy": "2020-11-03T03:24:51.383Z",
          "iopub.execute_input": "2020-11-03T03:24:51.390Z",
          "iopub.status.idle": "2020-11-03T03:24:51.543Z",
          "shell.execute_reply": "2020-11-03T03:24:51.561Z"
        }
      }
    },
    {
      "cell_type": "code",
      "source": [
        "df.tail()"
      ],
      "outputs": [
        {
          "output_type": "execute_result",
          "execution_count": 9,
          "data": {
            "text/plain": "         Height      Weight\n4995  68.860062  177.131052\n4996  68.973423  159.285228\n4997  67.013795  199.195400\n4998  71.557718  185.905910\n4999  70.351880  198.903012",
            "text/html": "<div>\n<style scoped>\n    .dataframe tbody tr th:only-of-type {\n        vertical-align: middle;\n    }\n\n    .dataframe tbody tr th {\n        vertical-align: top;\n    }\n\n    .dataframe thead th {\n        text-align: right;\n    }\n</style>\n<table border=\"1\" class=\"dataframe\">\n  <thead>\n    <tr style=\"text-align: right;\">\n      <th></th>\n      <th>Height</th>\n      <th>Weight</th>\n    </tr>\n  </thead>\n  <tbody>\n    <tr>\n      <th>4995</th>\n      <td>68.860062</td>\n      <td>177.131052</td>\n    </tr>\n    <tr>\n      <th>4996</th>\n      <td>68.973423</td>\n      <td>159.285228</td>\n    </tr>\n    <tr>\n      <th>4997</th>\n      <td>67.013795</td>\n      <td>199.195400</td>\n    </tr>\n    <tr>\n      <th>4998</th>\n      <td>71.557718</td>\n      <td>185.905910</td>\n    </tr>\n    <tr>\n      <th>4999</th>\n      <td>70.351880</td>\n      <td>198.903012</td>\n    </tr>\n  </tbody>\n</table>\n</div>"
          },
          "metadata": {}
        }
      ],
      "execution_count": 9,
      "metadata": {
        "collapsed": true,
        "jupyter": {
          "source_hidden": false,
          "outputs_hidden": true
        },
        "nteract": {
          "transient": {
            "deleting": false
          }
        },
        "execution": {
          "iopub.status.busy": "2020-11-03T03:26:18.362Z",
          "iopub.execute_input": "2020-11-03T03:26:18.374Z",
          "iopub.status.idle": "2020-11-03T03:26:18.398Z",
          "shell.execute_reply": "2020-11-03T03:26:18.433Z"
        }
      }
    },
    {
      "cell_type": "code",
      "source": [
        "pandas_profiling.ProfileReport(df)"
      ],
      "outputs": [],
      "execution_count": null,
      "metadata": {
        "collapsed": true,
        "jupyter": {
          "source_hidden": false,
          "outputs_hidden": false
        },
        "nteract": {
          "transient": {
            "deleting": false
          }
        },
        "execution": {
          "iopub.status.busy": "2020-07-15T09:47:07.085Z",
          "iopub.execute_input": "2020-07-15T09:47:07.094Z",
          "iopub.status.idle": "2020-07-15T09:47:22.264Z",
          "shell.execute_reply": "2020-07-15T09:47:22.304Z"
        }
      }
    },
    {
      "cell_type": "code",
      "source": [
        "# We check the size of the data\n",
        "data.shape"
      ],
      "outputs": [],
      "execution_count": null,
      "metadata": {
        "execution": {
          "iopub.status.busy": "2020-07-15T09:28:49.677Z",
          "iopub.execute_input": "2020-07-15T09:28:49.725Z",
          "iopub.status.idle": "2020-07-15T09:28:49.790Z",
          "shell.execute_reply": "2020-07-15T09:28:49.814Z"
        }
      }
    },
    {
      "cell_type": "code",
      "source": [
        "# We check the first 10 rows\n",
        "data[:10]"
      ],
      "outputs": [
        {
          "output_type": "execute_result",
          "execution_count": 10,
          "data": {
            "text/plain": "array([[ 73.84701702, 241.8935632 ],\n       [ 68.78190405, 162.3104725 ],\n       [ 74.11010539, 212.7408556 ],\n       [ 71.7309784 , 220.0424703 ],\n       [ 69.88179586, 206.3498006 ],\n       [ 67.25301569, 152.2121558 ],\n       [ 68.78508125, 183.9278886 ],\n       [ 68.34851551, 167.9711105 ],\n       [ 67.01894966, 175.9294404 ],\n       [ 63.45649398, 156.3996764 ]])"
          },
          "metadata": {}
        }
      ],
      "execution_count": 10,
      "metadata": {
        "execution": {
          "iopub.status.busy": "2020-11-03T03:26:31.001Z",
          "iopub.execute_input": "2020-11-03T03:26:31.011Z",
          "iopub.status.idle": "2020-11-03T03:26:31.091Z",
          "shell.execute_reply": "2020-11-03T03:26:31.118Z"
        },
        "jupyter": {
          "outputs_hidden": true
        }
      }
    },
    {
      "cell_type": "code",
      "source": [
        "#We import linear regression model from sklearn\n",
        "from sklearn import linear_model\n",
        "from sklearn.metrics import mean_squared_error"
      ],
      "outputs": [],
      "execution_count": 11,
      "metadata": {
        "execution": {
          "iopub.status.busy": "2020-11-03T03:26:42.414Z",
          "iopub.execute_input": "2020-11-03T03:26:42.427Z",
          "shell.execute_reply": "2020-11-03T03:26:44.785Z",
          "iopub.status.idle": "2020-11-03T03:26:44.800Z"
        }
      }
    },
    {
      "cell_type": "code",
      "source": [
        "#We separate out the independent variable height into X \n",
        "#and dependent variable weight into y\n",
        "X=data[:,0]\n",
        "y=data[:,1]"
      ],
      "outputs": [],
      "execution_count": null,
      "metadata": {
        "execution": {
          "iopub.status.busy": "2020-07-15T09:48:18.311Z",
          "iopub.execute_input": "2020-07-15T09:48:18.320Z",
          "iopub.status.idle": "2020-07-15T09:48:18.334Z",
          "shell.execute_reply": "2020-07-15T09:48:18.342Z"
        }
      }
    },
    {
      "cell_type": "code",
      "source": [
        "# Split the data into training/testing sets\n",
        "X_train1=X[:2500]\n",
        "X_train2=X[2500:4500]\n",
        "X_test=X[4500:]"
      ],
      "outputs": [],
      "execution_count": null,
      "metadata": {
        "execution": {
          "iopub.status.busy": "2020-07-15T09:48:21.535Z",
          "iopub.execute_input": "2020-07-15T09:48:21.550Z",
          "iopub.status.idle": "2020-07-15T09:48:21.566Z",
          "shell.execute_reply": "2020-07-15T09:48:21.575Z"
        }
      }
    },
    {
      "cell_type": "code",
      "source": [
        "# Split the targets into training/testing sets\n",
        "y_train1=y[:2500]\n",
        "y_train2=y[2500:4500]\n",
        "y_test=y[4500:]"
      ],
      "outputs": [],
      "execution_count": null,
      "metadata": {
        "execution": {
          "iopub.status.busy": "2020-07-15T09:48:23.446Z",
          "iopub.execute_input": "2020-07-15T09:48:23.457Z",
          "iopub.status.idle": "2020-07-15T09:48:23.507Z",
          "shell.execute_reply": "2020-07-15T09:48:23.515Z"
        }
      }
    },
    {
      "cell_type": "code",
      "source": [
        "# Modeify the data to input into sklearn\n",
        "X_train1=X_train1.reshape(-1, 1)\n",
        "X_train2=X_train2.reshape(-1, 1)\n",
        "X_test=X_test.reshape(-1, 1)"
      ],
      "outputs": [],
      "execution_count": null,
      "metadata": {
        "execution": {
          "iopub.status.busy": "2020-07-15T09:52:18.324Z",
          "iopub.execute_input": "2020-07-15T09:52:18.372Z",
          "iopub.status.idle": "2020-07-15T09:52:18.395Z",
          "shell.execute_reply": "2020-07-15T09:52:18.405Z"
        }
      }
    },
    {
      "cell_type": "markdown",
      "source": [
        "A simple average ensemble model"
      ],
      "metadata": {}
    },
    {
      "cell_type": "code",
      "source": [
        "model1 = linear_model.LinearRegression()\n",
        "model2 = linear_model.ElasticNet()\n",
        "\n",
        "model1.fit(X_train1,y_train1)\n",
        "model2.fit(X_train2,y_train2)\n",
        "\n",
        "pred1=model1.predict(X_test)\n",
        "pred2=model2.predict(X_test)"
      ],
      "outputs": [],
      "execution_count": null,
      "metadata": {
        "execution": {
          "iopub.status.busy": "2020-07-15T10:10:51.225Z",
          "iopub.execute_input": "2020-07-15T10:10:51.253Z",
          "shell.execute_reply": "2020-07-15T10:10:51.282Z",
          "iopub.status.idle": "2020-07-15T10:10:51.272Z"
        }
      }
    },
    {
      "cell_type": "code",
      "source": [
        "print(\"Train Score of First Model is\",model1.score(X_train1,y_train1))\n",
        "print(\"Train Score of Second Model is\",model2.score(X_train2,y_train2))\n",
        "print('*'*30)\n",
        "print(\"Test Score of First Model is\",model1.score(X_test,pred1))\n",
        "print(\"Test Score of Second Model is\",model2.score(X_test,pred2))"
      ],
      "outputs": [],
      "execution_count": null,
      "metadata": {
        "collapsed": true,
        "jupyter": {
          "source_hidden": false,
          "outputs_hidden": false
        },
        "nteract": {
          "transient": {
            "deleting": false
          }
        },
        "execution": {
          "iopub.status.busy": "2020-07-15T10:10:51.784Z",
          "iopub.execute_input": "2020-07-15T10:10:51.793Z",
          "iopub.status.idle": "2020-07-15T10:10:51.827Z",
          "shell.execute_reply": "2020-07-15T10:10:51.842Z"
        }
      }
    },
    {
      "cell_type": "code",
      "source": [
        "finalpred=(pred1+pred2)/2\n",
        "finalpred"
      ],
      "outputs": [],
      "execution_count": null,
      "metadata": {
        "collapsed": true,
        "jupyter": {
          "source_hidden": false,
          "outputs_hidden": false
        },
        "nteract": {
          "transient": {
            "deleting": false
          }
        },
        "execution": {
          "iopub.status.busy": "2020-07-15T10:10:53.439Z",
          "iopub.execute_input": "2020-07-15T10:10:53.459Z",
          "iopub.status.idle": "2020-07-15T10:10:53.486Z",
          "shell.execute_reply": "2020-07-15T10:10:53.495Z"
        }
      }
    },
    {
      "cell_type": "code",
      "source": [
        "y_test.shape"
      ],
      "outputs": [],
      "execution_count": null,
      "metadata": {
        "execution": {
          "iopub.status.busy": "2020-07-15T10:10:54.276Z",
          "iopub.execute_input": "2020-07-15T10:10:54.301Z",
          "iopub.status.idle": "2020-07-15T10:10:54.324Z",
          "shell.execute_reply": "2020-07-15T10:10:54.335Z"
        }
      }
    },
    {
      "cell_type": "code",
      "source": [
        "finalpred.shape"
      ],
      "outputs": [],
      "execution_count": null,
      "metadata": {
        "execution": {
          "iopub.status.busy": "2020-07-15T10:10:55.070Z",
          "iopub.execute_input": "2020-07-15T10:10:55.090Z",
          "iopub.status.idle": "2020-07-15T10:10:55.116Z",
          "shell.execute_reply": "2020-07-15T10:10:55.125Z"
        }
      }
    },
    {
      "cell_type": "code",
      "source": [
        "print(mean_squared_error(y_test, finalpred, sample_weight=None, multioutput='uniform_average'))"
      ],
      "outputs": [],
      "execution_count": null,
      "metadata": {
        "execution": {
          "iopub.status.busy": "2020-07-15T10:10:55.537Z",
          "iopub.execute_input": "2020-07-15T10:10:55.545Z",
          "iopub.status.idle": "2020-07-15T10:10:55.572Z",
          "shell.execute_reply": "2020-07-15T10:10:55.580Z"
        }
      }
    },
    {
      "cell_type": "code",
      "source": [
        "from sklearn.metrics import mean_squared_error,r2_score"
      ],
      "outputs": [],
      "execution_count": null,
      "metadata": {
        "execution": {
          "iopub.status.busy": "2020-07-15T10:10:55.999Z",
          "iopub.execute_input": "2020-07-15T10:10:56.012Z",
          "iopub.status.idle": "2020-07-15T10:10:56.027Z",
          "shell.execute_reply": "2020-07-15T10:10:56.038Z"
        }
      }
    },
    {
      "cell_type": "code",
      "source": [
        "mean_squared_error(y_test,finalpred)"
      ],
      "outputs": [],
      "execution_count": null,
      "metadata": {
        "execution": {
          "iopub.status.busy": "2020-07-15T10:10:56.725Z",
          "iopub.execute_input": "2020-07-15T10:10:56.743Z",
          "iopub.status.idle": "2020-07-15T10:10:56.762Z",
          "shell.execute_reply": "2020-07-15T10:10:56.768Z"
        }
      }
    },
    {
      "cell_type": "code",
      "source": [
        "r2_score(y_test,finalpred)"
      ],
      "outputs": [],
      "execution_count": null,
      "metadata": {
        "execution": {
          "iopub.status.busy": "2020-07-15T10:10:57.365Z",
          "iopub.execute_input": "2020-07-15T10:10:57.372Z",
          "iopub.status.idle": "2020-07-15T10:10:57.398Z",
          "shell.execute_reply": "2020-07-15T10:10:57.405Z"
        }
      }
    },
    {
      "cell_type": "code",
      "source": [
        "model1.score(X_train1,y_train1)"
      ],
      "outputs": [],
      "execution_count": null,
      "metadata": {
        "execution": {
          "iopub.status.busy": "2020-07-15T10:10:57.873Z",
          "iopub.execute_input": "2020-07-15T10:10:57.892Z",
          "iopub.status.idle": "2020-07-15T10:10:57.921Z",
          "shell.execute_reply": "2020-07-15T10:10:57.931Z"
        }
      }
    },
    {
      "cell_type": "code",
      "source": [
        "model1.score(X_test,y_test)"
      ],
      "outputs": [],
      "execution_count": null,
      "metadata": {
        "execution": {
          "iopub.status.busy": "2020-07-15T10:10:58.369Z",
          "iopub.execute_input": "2020-07-15T10:10:58.378Z",
          "iopub.status.idle": "2020-07-15T10:10:58.406Z",
          "shell.execute_reply": "2020-07-15T10:10:58.415Z"
        }
      }
    },
    {
      "cell_type": "code",
      "source": [
        "model2.score(X_train2,y_train2)"
      ],
      "outputs": [],
      "execution_count": null,
      "metadata": {
        "execution": {
          "iopub.status.busy": "2020-07-15T10:09:48.009Z",
          "iopub.execute_input": "2020-07-15T10:09:48.020Z",
          "iopub.status.idle": "2020-07-15T10:09:48.038Z",
          "shell.execute_reply": "2020-07-15T10:09:48.046Z"
        }
      }
    },
    {
      "cell_type": "code",
      "source": [
        "model2.score(X_test,y_test)"
      ],
      "outputs": [],
      "execution_count": null,
      "metadata": {
        "execution": {
          "iopub.status.busy": "2020-07-15T10:09:48.477Z",
          "iopub.execute_input": "2020-07-15T10:09:48.489Z",
          "iopub.status.idle": "2020-07-15T10:09:48.517Z",
          "shell.execute_reply": "2020-07-15T10:09:48.526Z"
        }
      }
    }
  ],
  "metadata": {
    "kernelspec": {
      "display_name": "Python 3",
      "language": "python",
      "name": "python3"
    },
    "language_info": {
      "name": "python",
      "version": "3.6.8",
      "mimetype": "text/x-python",
      "codemirror_mode": {
        "name": "ipython",
        "version": 3
      },
      "pygments_lexer": "ipython3",
      "nbconvert_exporter": "python",
      "file_extension": ".py"
    },
    "nteract": {
      "version": "0.25.1"
    }
  },
  "nbformat": 4,
  "nbformat_minor": 4
}